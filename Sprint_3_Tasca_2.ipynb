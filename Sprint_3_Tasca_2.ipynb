{
 "cells": [
  {
   "cell_type": "markdown",
   "metadata": {},
   "source": [
    "# Sprint 3 Tasca 2: Estructura de dades"
   ]
  },
  {
   "cell_type": "markdown",
   "metadata": {},
   "source": [
    "## Exercici 1\n",
    "__Crea una llista que agrupi els mesos de l’any en trimestres (1T: Gener, Febrer i Març, 2T: Abril, Maig, Juny...), és a dir, una llista amb 4 llistes dins.__"
   ]
  },
  {
   "cell_type": "code",
   "execution_count": 3,
   "metadata": {},
   "outputs": [
    {
     "name": "stdout",
     "output_type": "stream",
     "text": [
      "[['Gener', 'Febrer', 'Març'], ['Abril', 'Maig', 'Juny'], ['Juliol', 'Agost', 'Septembre'], ['Octubre', 'Novembre', 'Desembre']]\n"
     ]
    }
   ],
   "source": [
    "T1 = [\"Gener\",\"Febrer\",\"Març\"]\n",
    "T2 = [\"Abril\",\"Maig\",\"Juny\"]\n",
    "T3 = [\"Juliol\",\"Agost\",\"Septembre\"]\n",
    "T4 = [\"Octubre\",\"Novembre\",\"Desembre\"]\n",
    "trimestres = [T1, T2, T3, T4]\n",
    "print(trimestres)"
   ]
  },
  {
   "cell_type": "markdown",
   "metadata": {},
   "source": [
    "## Exercici 2\n",
    "__Crea un codi que et permeti accedir a:__\n",
    "\n",
    "- El segon més del primer trimestre\n"
   ]
  },
  {
   "cell_type": "code",
   "execution_count": 5,
   "metadata": {},
   "outputs": [
    {
     "name": "stdout",
     "output_type": "stream",
     "text": [
      "Febrer\n"
     ]
    }
   ],
   "source": [
    "segon_T1 = trimestres[0][1]\n",
    "print(segon_T1)"
   ]
  },
  {
   "cell_type": "markdown",
   "metadata": {},
   "source": [
    "- Els mesos del primer trimestre"
   ]
  },
  {
   "cell_type": "code",
   "execution_count": 7,
   "metadata": {},
   "outputs": [
    {
     "name": "stdout",
     "output_type": "stream",
     "text": [
      "['Gener', 'Febrer', 'Març']\n"
     ]
    }
   ],
   "source": [
    "trim1 = trimestres[0]\n",
    "print(trim1)"
   ]
  },
  {
   "cell_type": "markdown",
   "metadata": {},
   "source": [
    "- Setembre i octubre"
   ]
  },
  {
   "cell_type": "code",
   "execution_count": 8,
   "metadata": {},
   "outputs": [
    {
     "name": "stdout",
     "output_type": "stream",
     "text": [
      "['Septembre', 'Octubre']\n"
     ]
    }
   ],
   "source": [
    "sep_oct = [trimestres[2][2],trimestres[3][0]]\n",
    "print(sep_oct)"
   ]
  },
  {
   "cell_type": "markdown",
   "metadata": {},
   "source": [
    "## Exercici 3\n",
    "Crea una llista amb nombres desordenats i respon a les següents preguntes:"
   ]
  },
  {
   "cell_type": "code",
   "execution_count": 59,
   "metadata": {},
   "outputs": [
    {
     "name": "stdout",
     "output_type": "stream",
     "text": [
      "[20 39 13 25 16 50 24 42 27 31 44 31 45 27 49 29  6 17 10 48 49 13 38 35\n",
      " 39  4 40 12  1 42 12 17  4  3 20 13  2 12 44 18 15  8 43 44 47 29 18 24]\n"
     ]
    }
   ],
   "source": [
    "import numpy as np\n",
    "\n",
    "np.random.seed(1234)\n",
    "\n",
    "# Es crea una llista aleatoria amb longitud aleatoria de números entre 1 i 50 (inclosos)\n",
    "llargada = np.random.choice(50)+1\n",
    "llista_r = np.random.choice(50,llargada,replace=True)+1\n",
    "print(llista_r)"
   ]
  },
  {
   "cell_type": "markdown",
   "metadata": {},
   "source": [
    "- Quants números hi ha?"
   ]
  },
  {
   "cell_type": "code",
   "execution_count": 49,
   "metadata": {},
   "outputs": [
    {
     "name": "stdout",
     "output_type": "stream",
     "text": [
      "Hi ha 48 números\n"
     ]
    }
   ],
   "source": [
    "print('Hi ha ' + str(len(llista_r)) + ' números')"
   ]
  },
  {
   "cell_type": "markdown",
   "metadata": {},
   "source": [
    "- Quantes vegades apareix el número 3"
   ]
  },
  {
   "cell_type": "code",
   "execution_count": 50,
   "metadata": {},
   "outputs": [
    {
     "name": "stdout",
     "output_type": "stream",
     "text": [
      "Hi ha 1 vegades el nombre 3\n"
     ]
    }
   ],
   "source": [
    "def quants(x,llista):\n",
    "    q = 0\n",
    "    for i in llista:\n",
    "        if i == x:\n",
    "            q += 1\n",
    "    print('Hi ha ' + str(q) +' vegades el nombre ' + str(x))\n",
    "\n",
    "quants(3,llista_r)"
   ]
  },
  {
   "cell_type": "markdown",
   "metadata": {},
   "source": [
    "- Quantes vegades apareixen els nombres 3 i 4?"
   ]
  },
  {
   "cell_type": "code",
   "execution_count": 51,
   "metadata": {},
   "outputs": [
    {
     "name": "stdout",
     "output_type": "stream",
     "text": [
      "Hi ha 1 vegades el nombre 3 i 2 vegades el nombre 4\n"
     ]
    }
   ],
   "source": [
    "def quants_2(x,y,llista):\n",
    "    q = 0\n",
    "    t = 0\n",
    "    for i in llista:\n",
    "        if i == x:\n",
    "            q += 1\n",
    "        elif i == y:\n",
    "            t +=1\n",
    "    print('Hi ha ' + str(q) +' vegades el nombre ' + str(x) + ' i ' + str(t) + ' vegades el nombre ' + str(y))\n",
    "\n",
    "quants_2(3,4,llista_r)"
   ]
  },
  {
   "cell_type": "markdown",
   "metadata": {},
   "source": [
    "- Quin és el número més gran?"
   ]
  },
  {
   "cell_type": "code",
   "execution_count": 55,
   "metadata": {},
   "outputs": [
    {
     "name": "stdout",
     "output_type": "stream",
     "text": [
      "El nombre més gran és: 50\n"
     ]
    }
   ],
   "source": [
    "print('El nombre més gran és: ' + str(max(llista_r)))"
   ]
  },
  {
   "cell_type": "markdown",
   "metadata": {},
   "source": [
    "- Quins són els 3 números més petits?"
   ]
  },
  {
   "cell_type": "code",
   "execution_count": 68,
   "metadata": {},
   "outputs": [
    {
     "name": "stdout",
     "output_type": "stream",
     "text": [
      "Els nombres més petits són: [1, 2, 3]\n"
     ]
    }
   ],
   "source": [
    "def tres_petits(llista):\n",
    "    llista = list(set(llista)) # Ordena la llista de manera ascendent i treu valors duplicats  \n",
    "    if len(llista) <= 2: #Si la llista té menys de dos elements, imprimeix tots\n",
    "        print('Els nombres més petits són: ' + str(x))\n",
    "    else:\n",
    "        print('Els nombres més petits són: ' + str(llista[:3]))\n",
    "\n",
    "tres_petits(llista_r)"
   ]
  },
  {
   "cell_type": "markdown",
   "metadata": {},
   "source": [
    "- Quin és el rang d’aquesta llista?"
   ]
  },
  {
   "cell_type": "code",
   "execution_count": 78,
   "metadata": {},
   "outputs": [
    {
     "name": "stdout",
     "output_type": "stream",
     "text": [
      "El rang de la llista és la diferència entre el màxim 50 i el mínim 1: 49\n"
     ]
    }
   ],
   "source": [
    "def rang(llista):\n",
    "    mx = max(llista)\n",
    "    mn = min(llista)\n",
    "    rg = mx - mn\n",
    "    print('El rang de la llista és la diferència entre el màxim ' + str(mx) + ' i el mínim ' + str(mn) + ': ' + str(rg))\n",
    "\n",
    "rang(llista_r)"
   ]
  },
  {
   "cell_type": "markdown",
   "metadata": {},
   "source": [
    "## Exercici 4\n",
    "Crea un diccionari de la següent forma i respon a les preguntes:"
   ]
  },
  {
   "cell_type": "code",
   "execution_count": 79,
   "metadata": {},
   "outputs": [
    {
     "name": "stdout",
     "output_type": "stream",
     "text": [
      "{'Pomes': {'Qty': 5, '€': 0.42}, 'Peres': {'Qty': 3, '€': 0.66}}\n"
     ]
    }
   ],
   "source": [
    "compra = { \"Pomes\" : {\"Qty\": 5, \"€\": 0.42}, \"Peres\" : {\"Qty\": 3, \"€\": 0.66} }\n",
    "print(compra)"
   ]
  },
  {
   "cell_type": "markdown",
   "metadata": {},
   "source": [
    "- Afegeix alguna fruita més"
   ]
  },
  {
   "cell_type": "code",
   "execution_count": 80,
   "metadata": {},
   "outputs": [
    {
     "name": "stdout",
     "output_type": "stream",
     "text": [
      "{'Pomes': {'Qty': 5, '€': 0.42}, 'Peres': {'Qty': 3, '€': 0.66}, 'Maduixes': {'Qty': 10, '€': 0.15}}\n"
     ]
    }
   ],
   "source": [
    "compra[\"Maduixes\"] = {\"Qty\": 10, \"€\": 0.15}\n",
    "print(compra)"
   ]
  },
  {
   "cell_type": "markdown",
   "metadata": {},
   "source": [
    "- Quant han costat les peres en total?"
   ]
  },
  {
   "cell_type": "code",
   "execution_count": 85,
   "metadata": {},
   "outputs": [
    {
     "name": "stdout",
     "output_type": "stream",
     "text": [
      "El cost total de la pera es 3 vegades el seu preu unitari 0.66\n",
      "Les peres en total han costat 1.98 €\n"
     ]
    }
   ],
   "source": [
    "print('El cost total de la pera es ' + str(compra[\"Peres\"][\"Qty\"]) + ' vegades el seu preu unitari ' + str(compra[\"Peres\"][\"€\"]))\n",
    "print('Les peres en total han costat ' + str(compra[\"Peres\"][\"Qty\"] * compra[\"Peres\"][\"€\"]) + ' €')"
   ]
  },
  {
   "cell_type": "markdown",
   "metadata": {},
   "source": [
    "- Quantes fruites hem comprat en total?"
   ]
  },
  {
   "cell_type": "code",
   "execution_count": 98,
   "metadata": {},
   "outputs": [
    {
     "name": "stdout",
     "output_type": "stream",
     "text": [
      "En total s'han comprat 18 peces de fruita\n"
     ]
    }
   ],
   "source": [
    "print('En total s\\'han comprat ' + str(list(compra.values())[0][\"Qty\"] + list(compra.values())[1][\"Qty\"] + list(compra.values())[2][\"Qty\"]) + ' peces de fruita')"
   ]
  },
  {
   "cell_type": "code",
   "execution_count": 99,
   "metadata": {},
   "outputs": [
    {
     "name": "stdout",
     "output_type": "stream",
     "text": [
      "En total s'han comprat 18 peces de fruita\n"
     ]
    }
   ],
   "source": [
    "def peces_totals(dic, var): # Funció que demana un diccionari i la variable que conté les quantitats\n",
    "    qp = 0\n",
    "    for i in range(len(dic)):\n",
    "        qp += list(dic.values())[i][var]\n",
    "    return qp\n",
    "        \n",
    "print('En total s\\'han comprat ' + str(peces_totals(compra,\"Qty\")) + ' peces de fruita')"
   ]
  },
  {
   "cell_type": "markdown",
   "metadata": {},
   "source": [
    "- Quina és la fruita més cara?"
   ]
  },
  {
   "cell_type": "code",
   "execution_count": 128,
   "metadata": {},
   "outputs": [
    {
     "name": "stdout",
     "output_type": "stream",
     "text": [
      "La fruita més cara per peça és: Peres\n",
      "La fruita més cara per preu total és: Pomes\n"
     ]
    }
   ],
   "source": [
    "def mes_cara_u(dic, preu): # Funció que demana un diccionari i la variable preu\n",
    "    maxim = 0\n",
    "    for i in range(len(dic)):\n",
    "        if maxim < list(dic.values())[i][preu]:\n",
    "            maxim = list(dic.values())[i][preu]\n",
    "            q = list(dic)[i]\n",
    "    return q\n",
    "\n",
    "def mes_cara_total(dic, qnt, preu): # Funció que demana un diccionari i les variables que contenen les quantitats i preus\n",
    "    maxim = 0\n",
    "    q = 0\n",
    "    for i in range(len(dic)):\n",
    "        if maxim < list(dic.values())[i][qnt] * list(dic.values())[i][preu]:\n",
    "            maxim = list(dic.values())[i][qnt] * list(dic.values())[i][preu] \n",
    "            q = list(dic.keys())[i]\n",
    "    return q\n",
    "        \n",
    "print('La fruita més cara per peça és: ' + str(mes_cara_u(compra,\"€\")))\n",
    "print('La fruita més cara per preu total és: ' + str(mes_cara_total(compra,\"Qty\",\"€\")))"
   ]
  }
 ],
 "metadata": {
  "kernelspec": {
   "display_name": "Python 3",
   "language": "python",
   "name": "python3"
  },
  "language_info": {
   "codemirror_mode": {
    "name": "ipython",
    "version": 3
   },
   "file_extension": ".py",
   "mimetype": "text/x-python",
   "name": "python",
   "nbconvert_exporter": "python",
   "pygments_lexer": "ipython3",
   "version": "3.8.5"
  }
 },
 "nbformat": 4,
 "nbformat_minor": 4
}
